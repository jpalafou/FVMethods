{
 "cells": [
  {
   "cell_type": "code",
   "execution_count": 1,
   "metadata": {},
   "outputs": [],
   "source": [
    "import numpy as np\n",
    "from finite_volume.advection import AdvectionSolver\n",
    "from finite_volume.initial_conditions import generate_ic\n",
    "\n",
    "def l1(x: np.ndarray) -> float:\n",
    "    return np.mean(np.abs(x))\n",
    "\n",
    "\n",
    "def l2(x: np.ndarray) -> float:\n",
    "    return np.sqrt(np.mean(np.square(x)))\n",
    "\n",
    "\n",
    "def linf(x: np.ndarray) -> float:\n",
    "    return np.max(np.abs(x))"
   ]
  },
  {
   "cell_type": "code",
   "execution_count": 2,
   "metadata": {},
   "outputs": [],
   "source": [
    "p=1\n",
    "a=1\n",
    "k=1\n",
    "quadrature='gauss-legendre'\n",
    "ic_type__PAD=\"square\",(0,1)\n",
    "limiter_config=dict(aposteriori_limiting=True, SED=False, hancock=False, convex=False, fallback_to_first_order=True, fallback_limiter='moncen')"
   ]
  },
  {
   "cell_type": "code",
   "execution_count": 3,
   "metadata": {},
   "outputs": [
    {
     "name": "stdout",
     "output_type": "stream",
     "text": [
      "New solution instance...\n"
     ]
    },
    {
     "name": "stderr",
     "output_type": "stream",
     "text": [
      "100%|██████████| 1.0/1 [00:02]                 \n"
     ]
    },
    {
     "name": "stdout",
     "output_type": "stream",
     "text": [
      "\n",
      "New solution instance...\n"
     ]
    },
    {
     "name": "stderr",
     "output_type": "stream",
     "text": [
      "100%|██████████| 1.0/1 [00:01]                 \n"
     ]
    },
    {
     "name": "stdout",
     "output_type": "stream",
     "text": [
      "\n",
      "l1(diffs)=3.0826578269194105e-16\n",
      "l2(diffs)=4.554995401268033e-16\n",
      "linf(diffs)=2.6645352591003757e-15\n"
     ]
    }
   ],
   "source": [
    "ic_type, PAD = ic_type__PAD\n",
    "\n",
    "def linear_transformation(x):\n",
    "    return a * x + k\n",
    "\n",
    "def u0(x, y):\n",
    "    return generate_ic(type=ic_type, x=x, y=y)\n",
    "\n",
    "def u0_shifted(x, y):\n",
    "    return linear_transformation(u0(x, y))\n",
    "\n",
    "u0_shifted.__name__ += f\"_{a}_{k}\"\n",
    "\n",
    "shared_config = dict(\n",
    "    **limiter_config,\n",
    "    save=False,\n",
    "    load=False,\n",
    "    v=(2, 1),\n",
    "    n=(64,),\n",
    "    order=p + 1,\n",
    "    courant=0.8,\n",
    "    snapshot_dt=1,\n",
    "    flux_strategy=quadrature,\n",
    ")\n",
    "\n",
    "# baseline\n",
    "solver = AdvectionSolver(\n",
    "    **shared_config,\n",
    "    u0=u0,\n",
    "    PAD=PAD,\n",
    ")\n",
    "# solver.one_euler_step(n=5)\n",
    "solver.rkorder()\n",
    "\n",
    "# shifted initial condition\n",
    "translated_solver = AdvectionSolver(\n",
    "    **shared_config,\n",
    "    u0=u0_shifted,\n",
    "    PAD=sorted((linear_transformation(PAD[0]), linear_transformation(PAD[1]))),\n",
    ")\n",
    "# translated_solver.one_euler_step(n=5)\n",
    "translated_solver.rkorder()\n",
    "\n",
    "# check equivariance\n",
    "diffs = (\n",
    "    linear_transformation(solver.u_snapshots[-1][1])\n",
    "    - translated_solver.u_snapshots[-1][1]\n",
    ")\n",
    "print(f\"{l1(diffs)=}\")\n",
    "print(f\"{l2(diffs)=}\")\n",
    "print(f\"{linf(diffs)=}\")"
   ]
  }
 ],
 "metadata": {
  "kernelspec": {
   "display_name": "fv-env",
   "language": "python",
   "name": "python3"
  },
  "language_info": {
   "codemirror_mode": {
    "name": "ipython",
    "version": 3
   },
   "file_extension": ".py",
   "mimetype": "text/x-python",
   "name": "python",
   "nbconvert_exporter": "python",
   "pygments_lexer": "ipython3",
   "version": "3.11.5"
  }
 },
 "nbformat": 4,
 "nbformat_minor": 2
}
