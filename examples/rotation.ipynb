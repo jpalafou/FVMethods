{
 "cells": [
  {
   "cell_type": "code",
   "execution_count": 1,
   "metadata": {},
   "outputs": [],
   "source": [
    "import numpy as np\n",
    "from finite_volume.advection import AdvectionSolver\n",
    "from finite_volume.initial_conditions import generate_ic"
   ]
  },
  {
   "cell_type": "code",
   "execution_count": 2,
   "metadata": {},
   "outputs": [],
   "source": [
    "ic_type = \"sinus\"\n",
    "n_rotations = 1\n",
    "limiter_config = dict(\n",
    "    aposteriori_limiting=True, fallback_limiter=\"PP2D\", hancock=True, convex=True\n",
    ")\n",
    "flux_strategy = \"gauss-legendre\"\n",
    "p = 7\n",
    "\n",
    "\n",
    "def u0(x, y):\n",
    "    return generate_ic(type=ic_type, x=x, y=y)\n",
    "\n",
    "\n",
    "def u0_rotated(x, y):\n",
    "    return np.rot90(u0(x, y), k=n_rotations, axes=(1, 0))\n",
    "\n",
    "\n",
    "u0_rotated.__name__ += f\"_{n_rotations}\"\n",
    "\n",
    "vx_vy = (1, 0)\n",
    "vx_vy_C4 = {0: (1, 0), 1: (0, 1), 2: (-1, 0), 3: (0, -1)}\n",
    "\n",
    "shared_config = dict(\n",
    "    **limiter_config,\n",
    "    load=False,\n",
    "    save=False,\n",
    "    PAD=(0, 1),\n",
    "    n=(64,),\n",
    "    order=p + 1,\n",
    "    flux_strategy=flux_strategy,\n",
    "    courant=0.8,\n",
    "    snapshot_dt=1,\n",
    ")"
   ]
  },
  {
   "cell_type": "code",
   "execution_count": 4,
   "metadata": {},
   "outputs": [
    {
     "name": "stdout",
     "output_type": "stream",
     "text": [
      "New solution instance...\n"
     ]
    },
    {
     "name": "stderr",
     "output_type": "stream",
     "text": [
      "  4%|▍         | 0.037500000000000006/1 [00:00]"
     ]
    },
    {
     "name": "stderr",
     "output_type": "stream",
     "text": [
      "100%|██████████| 1.0/1 [00:01]                 "
     ]
    },
    {
     "name": "stdout",
     "output_type": "stream",
     "text": [
      "\n",
      "---------------------------------\n",
      "   abs min/max  mean min/max     std min/max\n",
      "  -1.00000e+00  -9.77745e-01 +/- 8.80188e-03\n",
      "   1.00000e+00   9.81736e-01 +/- 6.87913e-03\n",
      "\n",
      " time (s):   1.60411\n",
      "\n"
     ]
    },
    {
     "name": "stderr",
     "output_type": "stream",
     "text": [
      "\n"
     ]
    }
   ],
   "source": [
    "solver = AdvectionSolver(\n",
    "    **shared_config,\n",
    "    u0=u0,\n",
    "    v=vx_vy,\n",
    ")\n",
    "solver.rk4()\n",
    "solver.minmax()"
   ]
  },
  {
   "cell_type": "code",
   "execution_count": null,
   "metadata": {},
   "outputs": [],
   "source": []
  }
 ],
 "metadata": {
  "kernelspec": {
   "display_name": "fv-env",
   "language": "python",
   "name": "python3"
  },
  "language_info": {
   "codemirror_mode": {
    "name": "ipython",
    "version": 3
   },
   "file_extension": ".py",
   "mimetype": "text/x-python",
   "name": "python",
   "nbconvert_exporter": "python",
   "pygments_lexer": "ipython3",
   "version": "3.11.5"
  }
 },
 "nbformat": 4,
 "nbformat_minor": 2
}
