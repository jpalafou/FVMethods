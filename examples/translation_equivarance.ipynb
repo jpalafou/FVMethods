{
 "cells": [
  {
   "cell_type": "code",
   "execution_count": 1,
   "metadata": {},
   "outputs": [],
   "source": [
    "import numpy as np\n",
    "import matplotlib.pyplot as plt\n",
    "from finite_volume.advection import AdvectionSolver\n",
    "from finite_volume.initial_conditions import generate_ic\n",
    "\n",
    "\n",
    "def l1(x: np.ndarray) -> float:\n",
    "    return np.mean(np.abs(x))\n",
    "\n",
    "\n",
    "def l2(x: np.ndarray) -> float:\n",
    "    return np.sqrt(np.mean(np.square(x)))\n",
    "\n",
    "\n",
    "def linf(x: np.ndarray) -> float:\n",
    "    return np.max(np.abs(x))"
   ]
  },
  {
   "cell_type": "code",
   "execution_count": 2,
   "metadata": {},
   "outputs": [],
   "source": [
    "p = 2\n",
    "a = 1\n",
    "k = -2\n",
    "quadrature = \"gauss-legendre\"\n",
    "ic_type__PAD = \"square\", (0, 1)\n",
    "limiter_config = dict(\n",
    "    aposteriori_limiting=True,\n",
    "    SED=False,\n",
    "    hancock=False,\n",
    "    convex=False,\n",
    "    fallback_to_first_order=False,\n",
    "    fallback_limiter=\"minmod\",\n",
    ")"
   ]
  },
  {
   "cell_type": "code",
   "execution_count": 3,
   "metadata": {},
   "outputs": [
    {
     "name": "stdout",
     "output_type": "stream",
     "text": [
      "New solution instance...\n"
     ]
    },
    {
     "name": "stderr",
     "output_type": "stream",
     "text": [
      "  0%|          | 0/1.0 [00:00]"
     ]
    },
    {
     "name": "stderr",
     "output_type": "stream",
     "text": [
      "100%|█████████▉| 0.998333333333334/1.0 [00:04]   /usr/local/Caskroom/miniconda/base/envs/fv-env/lib/python3.11/site-packages/tqdm/std.py:639: TqdmWarning: clamping frac to range [0, 1]\n",
      "  full_bar = Bar(frac,\n",
      "100%|██████████| 1.0000000000000007/1.0 [00:04]\n"
     ]
    },
    {
     "name": "stdout",
     "output_type": "stream",
     "text": [
      "\n",
      "New solution instance...\n"
     ]
    },
    {
     "name": "stderr",
     "output_type": "stream",
     "text": [
      "100%|██████████| 1.0000000000000007/1.0 [00:02]  \n"
     ]
    },
    {
     "name": "stdout",
     "output_type": "stream",
     "text": [
      "\n",
      "l1(diffs)=8.090698516371336e-05\n",
      "l2(diffs)=0.00027265587069749876\n",
      "linf(diffs)=0.0064542059307486355\n"
     ]
    }
   ],
   "source": [
    "ic_type, PAD = ic_type__PAD\n",
    "\n",
    "\n",
    "def linear_transformation(x):\n",
    "    return a * x + k\n",
    "\n",
    "\n",
    "def u0(x, y):\n",
    "    return generate_ic(type=ic_type, x=x, y=y)\n",
    "\n",
    "\n",
    "def u0_shifted(x, y):\n",
    "    return linear_transformation(u0(x, y))\n",
    "\n",
    "\n",
    "u0_shifted.__name__ += f\"_{a}_{k}\"\n",
    "\n",
    "shared_config = dict(\n",
    "    **limiter_config,\n",
    "    save=False,\n",
    "    load=False,\n",
    "    v=(2, 1),\n",
    "    n=(64,),\n",
    "    order=p + 1,\n",
    "    courant=0.8,\n",
    "    snapshot_dt=0.01,\n",
    "    num_snapshots=100,\n",
    "    flux_strategy=quadrature,\n",
    ")\n",
    "\n",
    "# baseline\n",
    "solver = AdvectionSolver(\n",
    "    **shared_config,\n",
    "    u0=u0,\n",
    "    PAD=PAD,\n",
    ")\n",
    "# solver.one_euler_step()\n",
    "solver.rkorder()\n",
    "\n",
    "# shifted initial condition\n",
    "translated_solver = AdvectionSolver(\n",
    "    **shared_config,\n",
    "    u0=u0_shifted,\n",
    "    PAD=sorted((linear_transformation(PAD[0]), linear_transformation(PAD[1]))),\n",
    ")\n",
    "# translated_solver.one_euler_step()\n",
    "translated_solver.rkorder()\n",
    "\n",
    "# check equivariance\n",
    "diffs = (\n",
    "    linear_transformation(solver.u_snapshots[-1][1])\n",
    "    - translated_solver.u_snapshots[-1][1]\n",
    ")\n",
    "print(f\"{l1(diffs)=}\")\n",
    "print(f\"{l2(diffs)=}\")\n",
    "print(f\"{linf(diffs)=}\")"
   ]
  }
 ],
 "metadata": {
  "kernelspec": {
   "display_name": "fv-env",
   "language": "python",
   "name": "python3"
  },
  "language_info": {
   "codemirror_mode": {
    "name": "ipython",
    "version": 3
   },
   "file_extension": ".py",
   "mimetype": "text/x-python",
   "name": "python",
   "nbconvert_exporter": "python",
   "pygments_lexer": "ipython3",
   "version": "3.11.5"
  }
 },
 "nbformat": 4,
 "nbformat_minor": 2
}
