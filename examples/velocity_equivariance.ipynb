{
 "cells": [
  {
   "cell_type": "code",
   "execution_count": 1,
   "metadata": {},
   "outputs": [],
   "source": [
    "import numpy as np\n",
    "import matplotlib.pyplot as plt\n",
    "from finite_volume.advection import AdvectionSolver\n",
    "from finite_volume.initial_conditions import generate_ic\n",
    "\n",
    "def l1(x: np.ndarray) -> float:\n",
    "    return np.mean(np.abs(x))\n",
    "\n",
    "\n",
    "def l2(x: np.ndarray) -> float:\n",
    "    return np.sqrt(np.mean(np.square(x)))\n",
    "\n",
    "\n",
    "def linf(x: np.ndarray) -> float:\n",
    "    return np.max(np.abs(x))"
   ]
  },
  {
   "cell_type": "code",
   "execution_count": 2,
   "metadata": {},
   "outputs": [],
   "source": [
    "p=1\n",
    "n_rotations=1\n",
    "quadrature='gauss-legendre'\n",
    "ic_type__PAD=\"square\",(0,1)\n",
    "limiter_config=dict(\n",
    "    aposteriori_limiting=True, \n",
    "    SED=False, \n",
    "    hancock=False, \n",
    "    convex=False, \n",
    "    fallback_to_first_order=False, \n",
    "    fallback_limiter='minmod'\n",
    "    )"
   ]
  },
  {
   "cell_type": "code",
   "execution_count": 3,
   "metadata": {},
   "outputs": [
    {
     "name": "stdout",
     "output_type": "stream",
     "text": [
      "New solution instance...\n"
     ]
    },
    {
     "name": "stderr",
     "output_type": "stream",
     "text": [
      "  0%|          | 0/1 [00:00]"
     ]
    },
    {
     "name": "stderr",
     "output_type": "stream",
     "text": [
      "100%|██████████| 1.0/1 [00:01]                \n"
     ]
    },
    {
     "name": "stdout",
     "output_type": "stream",
     "text": [
      "\n",
      "New solution instance...\n"
     ]
    },
    {
     "name": "stderr",
     "output_type": "stream",
     "text": [
      "100%|██████████| 1.0/1 [00:00]                "
     ]
    },
    {
     "name": "stdout",
     "output_type": "stream",
     "text": [
      "\n",
      "l1(diffs)=0.0\n",
      "l2(diffs)=0.0\n",
      "linf(diffs)=0.0\n"
     ]
    },
    {
     "name": "stderr",
     "output_type": "stream",
     "text": [
      "\n"
     ]
    }
   ],
   "source": [
    "ic_type, PAD = ic_type__PAD\n",
    "\n",
    "def u0(x, y):\n",
    "    return generate_ic(type=ic_type, x=x, y=y)\n",
    "\n",
    "def u0_rotated(x, y):\n",
    "    return np.rot90(u0(x, y), k=n_rotations, axes=(1, 0))\n",
    "\n",
    "u0_rotated.__name__ += f\"_{n_rotations}\"\n",
    "\n",
    "vx_vy = (1, 0)\n",
    "vx_vy_C4 = {0: (1, 0), 1: (0, 1), 2: (-1, 0), 3: (0, -1)}\n",
    "\n",
    "shared_config = dict(\n",
    "    **limiter_config,\n",
    "    save=False,\n",
    "    load=False,\n",
    "    PAD=PAD,\n",
    "    n=(16,),\n",
    "    order=p + 1,\n",
    "    flux_strategy=quadrature,\n",
    "    courant=0.8,\n",
    "    snapshot_dt=1,\n",
    ")\n",
    "\n",
    "# baseline\n",
    "solver = AdvectionSolver(\n",
    "    **shared_config,\n",
    "    u0=u0,\n",
    "    v=vx_vy,\n",
    ")\n",
    "solver.rkorder()\n",
    "\n",
    "# reflected\n",
    "solver_rotated = AdvectionSolver(\n",
    "    **shared_config,\n",
    "    u0=u0_rotated,\n",
    "    v=vx_vy_C4[n_rotations],\n",
    ")\n",
    "solver_rotated.rkorder()\n",
    "\n",
    "# check equivariance\n",
    "diffs = solver.u_snapshots[-1][1] - np.rot90(\n",
    "    solver_rotated.u_snapshots[-1][1], k=-n_rotations, axes=(1, 0)\n",
    ")\n",
    "# diffs = solver.u_snapshots[-1][1] - np.flipud(np.rot90(np.flipud(solver_rotated.u_snapshots[-1][1]), k=-n_rotations))\n",
    "print(f\"{l1(diffs)=}\")\n",
    "print(f\"{l2(diffs)=}\")\n",
    "print(f\"{linf(diffs)=}\")"
   ]
  },
  {
   "cell_type": "code",
   "execution_count": null,
   "metadata": {},
   "outputs": [],
   "source": []
  }
 ],
 "metadata": {
  "kernelspec": {
   "display_name": "fv-env",
   "language": "python",
   "name": "python3"
  },
  "language_info": {
   "codemirror_mode": {
    "name": "ipython",
    "version": 3
   },
   "file_extension": ".py",
   "mimetype": "text/x-python",
   "name": "python",
   "nbconvert_exporter": "python",
   "pygments_lexer": "ipython3",
   "version": "3.11.5"
  }
 },
 "nbformat": 4,
 "nbformat_minor": 2
}
