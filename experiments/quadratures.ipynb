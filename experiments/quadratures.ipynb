{
 "cells": [
  {
   "cell_type": "code",
   "execution_count": 1,
   "id": "0ef62811",
   "metadata": {},
   "outputs": [],
   "source": [
    "from itertools import product\n",
    "import matplotlib.pyplot as plt\n",
    "import numpy as np\n",
    "from finite_volume.mathematiques import gauss_lobatto\n",
    "\n",
    "p = 5"
   ]
  },
  {
   "cell_type": "code",
   "execution_count": 2,
   "id": "6538c499",
   "metadata": {},
   "outputs": [],
   "source": [
    "class Cell:\n",
    "    def __init__(self, x: float = 0.0, y: float = 0.0, shape: tuple = (1, 1)):\n",
    "        self.x0 = x\n",
    "        self.y0 = y\n",
    "        self.x1 = x + shape[0]\n",
    "        self.y1 = y + shape[1]\n",
    "\n",
    "    def plot(self, ax, color=\"black\", linewidth=2, **kwargs):\n",
    "        x0, y0 = self.x0, self.y0\n",
    "        x1, y1 = self.x1, self.y1\n",
    "        ax.plot(\n",
    "            [x0, x0, x1, x1, x0],\n",
    "            [y0, y1, y1, y0, y0],\n",
    "            color=color,\n",
    "            linewidth=linewidth,\n",
    "            **kwargs,\n",
    "        )\n",
    "\n",
    "    def transform(self, x, y):\n",
    "        x, y = np.asarray(x), np.asarray(y)\n",
    "        # x coordinate\n",
    "        m, b = np.linalg.solve(\n",
    "            np.array([[-0.5, 1], [0.5, 1]]), np.array([self.x0, self.x1])\n",
    "        )\n",
    "        xout = m * x + b\n",
    "        # y cooridnate\n",
    "        m, b = np.linalg.solve(\n",
    "            np.array([[-0.5, 1], [0.5, 1]]), np.array([self.y0, self.y1])\n",
    "        )\n",
    "        yout = m * y + b\n",
    "        return xout, yout\n",
    "\n",
    "    def overlay_slices(\n",
    "        self, ax, x=[], y=[], color=\"grey\", linestyle=\"--\", linewidth=2, **kwargs\n",
    "    ):\n",
    "        xnew, ynew = self.transform(x, y)\n",
    "        for xval in xnew:\n",
    "            ax.plot(\n",
    "                [xval, xval],\n",
    "                [self.y0, self.y1],\n",
    "                color=color,\n",
    "                linestyle=linestyle,\n",
    "                linewidth=linewidth,\n",
    "                **kwargs,\n",
    "            )\n",
    "        for yval in ynew:\n",
    "            ax.plot(\n",
    "                [self.x0, self.x1],\n",
    "                [yval, yval],\n",
    "                color=color,\n",
    "                linestyle=linestyle,\n",
    "                linewidth=linewidth,\n",
    "                **kwargs,\n",
    "            )\n",
    "\n",
    "    def overlay_nodes(\n",
    "        self,\n",
    "        ax,\n",
    "        x=[],\n",
    "        y=[],\n",
    "        marker=\"o\",\n",
    "        markersize=9.5,\n",
    "        markerfacecolor=\"blue\",\n",
    "        halfhalf=False,\n",
    "        markerfacecoloralt=\"red\",\n",
    "        markeredgecolor=\"black\",\n",
    "        markeredgewidth=1,\n",
    "        **kwargs,\n",
    "    ):\n",
    "        xnew, ynew = self.transform(x, y)\n",
    "        for xval, yval in zip(xnew, ynew):\n",
    "            halfhalf_config = {}\n",
    "            if halfhalf and xval == self.x0:\n",
    "                halfhalf_config = dict(\n",
    "                    fillstyle=\"right\", markerfacecoloralt=markerfacecoloralt\n",
    "                )\n",
    "            if halfhalf and xval == self.x1:\n",
    "                halfhalf_config = dict(\n",
    "                    fillstyle=\"left\", markerfacecoloralt=markerfacecoloralt\n",
    "                )\n",
    "            if halfhalf and yval == self.y0:\n",
    "                halfhalf_config = dict(\n",
    "                    fillstyle=\"top\", markerfacecoloralt=markerfacecoloralt\n",
    "                )\n",
    "            if halfhalf and yval == self.y1:\n",
    "                halfhalf_config = dict(\n",
    "                    fillstyle=\"bottom\", markerfacecoloralt=markerfacecoloralt\n",
    "                )\n",
    "            ax.plot(\n",
    "                xval,\n",
    "                yval,\n",
    "                marker=marker,\n",
    "                markersize=markersize,\n",
    "                markerfacecolor=markerfacecolor,\n",
    "                markeredgecolor=markeredgecolor,\n",
    "                markeredgewidth=markeredgewidth,\n",
    "                **halfhalf_config,\n",
    "                **kwargs,\n",
    "            )"
   ]
  },
  {
   "cell_type": "code",
   "execution_count": 3,
   "id": "97b08d44",
   "metadata": {},
   "outputs": [
    {
     "data": {
      "image/png": "[encoded data removed]",
      "text/plain": [
       "<Figure size 640x480 with 1 Axes>"
      ]
     },
     "metadata": {},
     "output_type": "display_data"
    }
   ],
   "source": [
    "fig, ax = plt.subplots()\n",
    "\n",
    "cell = Cell()\n",
    "cell.plot(ax)\n",
    "\n",
    "gausslegendre = np.polynomial.legendre.leggauss(int(np.ceil((p + 1) / 2)))[0] / 2\n",
    "cell.overlay_slices(ax, x=gausslegendre, y=gausslegendre)\n",
    "\n",
    "n_gausslobatto = int(np.ceil((p + 3) / 2))\n",
    "gausslobatto = gauss_lobatto(n_gausslobatto)[0] / 2\n",
    "for x in gausslegendre:\n",
    "    cell.overlay_nodes(ax, x=[x] * n_gausslobatto, y=gausslobatto, halfhalf=True)\n",
    "for y in gausslegendre:\n",
    "    cell.overlay_nodes(ax, y=[y] * n_gausslobatto, x=gausslobatto, halfhalf=True)\n",
    "\n",
    "plt.gca().set_aspect(\"equal\")\n",
    "plt.axis(\"off\")\n",
    "\n",
    "\n",
    "fig.savefig(\"images/ZS2D_quadrature.png\", dpi=300, bbox_inches=\"tight\")"
   ]
  },
  {
   "cell_type": "code",
   "execution_count": 4,
   "id": "287e5c72",
   "metadata": {},
   "outputs": [
    {
     "data": {
      "image/png": "[encoded data removed]",
      "text/plain": [
       "<Figure size 640x480 with 1 Axes>"
      ]
     },
     "metadata": {},
     "output_type": "display_data"
    }
   ],
   "source": [
    "fig, ax = plt.subplots()\n",
    "\n",
    "cell = Cell()\n",
    "cell.plot(ax)\n",
    "\n",
    "cell.overlay_slices(ax, x=[0], y=[0])\n",
    "\n",
    "cell.overlay_nodes(ax, [0], [0])\n",
    "n_gausslegendre = int(np.ceil((p + 1) / 2))\n",
    "gausslegendre = np.polynomial.legendre.leggauss(n_gausslegendre)[0] / 2\n",
    "for x in np.array([-0.5, 0.5]):\n",
    "    cell.overlay_nodes(ax, y=gausslegendre, x=[x] * n_gausslegendre, halfhalf=True)\n",
    "    cell.overlay_nodes(ax, x=gausslegendre, y=[x] * n_gausslegendre, halfhalf=True)\n",
    "\n",
    "\n",
    "plt.gca().set_aspect(\"equal\")\n",
    "plt.axis(\"off\")\n",
    "\n",
    "\n",
    "fig.savefig(\"images/ZS2D-M_quadrature.png\", dpi=300, bbox_inches=\"tight\")"
   ]
  },
  {
   "cell_type": "code",
   "execution_count": 5,
   "id": "6e12406a",
   "metadata": {},
   "outputs": [
    {
     "data": {
      "image/png": "[encoded data removed]",
      "text/plain": [
       "<Figure size 640x480 with 1 Axes>"
      ]
     },
     "metadata": {},
     "output_type": "display_data"
    }
   ],
   "source": [
    "fig, ax = plt.subplots()\n",
    "\n",
    "cell = Cell()\n",
    "cell.plot(ax)\n",
    "\n",
    "cell.overlay_slices(ax, x=[0], y=[0])\n",
    "cell.overlay_nodes(ax, x=[0, -0.5, 0, 0.5, 0], y=[0, 0, 0.5, 0, -0.5], halfhalf=True)\n",
    "\n",
    "\n",
    "plt.gca().set_aspect(\"equal\")\n",
    "plt.axis(\"off\")\n",
    "\n",
    "fig.savefig(\"images/ZS2D-T_quadrature.png\", dpi=300, bbox_inches=\"tight\")"
   ]
  },
  {
   "cell_type": "code",
   "execution_count": null,
   "id": "cc55ddb8",
   "metadata": {},
   "outputs": [],
   "source": []
  }
 ],
 "metadata": {
  "kernelspec": {
   "display_name": "fv-env [~/.conda/envs/fv-env/]",
   "language": "python",
   "name": "conda_fv-env"
  },
  "language_info": {
   "codemirror_mode": {
    "name": "ipython",
    "version": 3
   },
   "file_extension": ".py",
   "mimetype": "text/x-python",
   "name": "python",
   "nbconvert_exporter": "python",
   "pygments_lexer": "ipython3",
   "version": "3.11.5"
  }
 },
 "nbformat": 4,
 "nbformat_minor": 5
}
