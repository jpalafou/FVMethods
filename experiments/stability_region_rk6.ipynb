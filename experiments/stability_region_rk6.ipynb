{
 "cells": [
  {
   "cell_type": "code",
   "execution_count": 1,
   "metadata": {},
   "outputs": [],
   "source": [
    "from sympy import expand, init_printing, Rational, sqrt, symbols"
   ]
  },
  {
   "cell_type": "code",
   "execution_count": 2,
   "metadata": {},
   "outputs": [],
   "source": [
    "# define variables\n",
    "u, h, O = symbols(\"u, h O\")  # inital u, step size, Omega\n",
    "k1, k2, k3, k4, k5, k6, k7 = symbols(\"k1 k2 k3 k4 k5 k6 k7\")\n",
    "s = sqrt(21)"
   ]
  },
  {
   "cell_type": "code",
   "execution_count": 3,
   "metadata": {},
   "outputs": [],
   "source": [
    "# Luther, H. (1968). An explicit sixth-order Runge-Kutta formula. Mathematics of Computation, 22(102), 434-436.\n",
    "k1 = h * O * u\n",
    "k2 = h * O * (u + k1)\n",
    "k3 = h * O * (u + Rational(1, 8) * (3 * k1 + k2))\n",
    "k4 = h * O * (u + Rational(1, 27) * (8 * k1 + 2 * k2 + 8 * k3))\n",
    "k5 = (\n",
    "    h\n",
    "    * O\n",
    "    * (\n",
    "        u\n",
    "        + Rational(1, 392)\n",
    "        * (\n",
    "            3 * (3 * s - 7) * k1\n",
    "            - 8 * (7 - s) * k2\n",
    "            + 48 * (7 - s) * k3\n",
    "            - 3 * (21 - s) * k4\n",
    "        )\n",
    "    )\n",
    ")\n",
    "k6 = (\n",
    "    h\n",
    "    * O\n",
    "    * (\n",
    "        u\n",
    "        + Rational(1, 1960)\n",
    "        * (\n",
    "            -5 * (231 + 51 * s) * k1\n",
    "            - 40 * (7 + s) * k2\n",
    "            - 320 * s * k3\n",
    "            + 3 * (21 + 121 * s) * k4\n",
    "            + 392 * (6 + s) * k5\n",
    "        )\n",
    "    )\n",
    ")\n",
    "k7 = (\n",
    "    h\n",
    "    * O\n",
    "    * (\n",
    "        u\n",
    "        + Rational(1, 180)\n",
    "        * (\n",
    "            15 * (22 + 7 * s) * k1\n",
    "            + 120 * k2\n",
    "            + 40 * (7 * s - 5) * k3\n",
    "            - 63 * (3 * s - 2) * k4\n",
    "            - 14 * (49 + 9 * s) * k5\n",
    "            + 70 * (7 - s) * k6\n",
    "        )\n",
    "    )\n",
    ")\n",
    "un = u + Rational(1, 180) * (9 * k1 + 64 * k3 + 49 * k5 + 49 * k6 + 9 * k7)"
   ]
  },
  {
   "cell_type": "code",
   "execution_count": 4,
   "metadata": {},
   "outputs": [
    {
     "data": {
      "image/png": "[encoded data removed]",
      "text/latex": [
       "$\\displaystyle u + O h u + \\frac{O^{2} h^{2} u}{2} + \\frac{O^{3} h^{3} u}{6} + \\frac{O^{4} h^{4} u}{24} + \\frac{O^{5} h^{5} u}{120} + \\frac{O^{6} h^{6} u}{720} - \\frac{O^{7} h^{7} u}{2160}$"
      ],
      "text/plain": [
       "             2  2      3  3      4  4      5  5      6  6      7  7  \n",
       "            O ⋅h ⋅u   O ⋅h ⋅u   O ⋅h ⋅u   O ⋅h ⋅u   O ⋅h ⋅u   O ⋅h ⋅u\n",
       "u + O⋅h⋅u + ─────── + ─────── + ─────── + ─────── + ─────── - ───────\n",
       "               2         6         24       120       720       2160 "
      ]
     },
     "execution_count": 4,
     "metadata": {},
     "output_type": "execute_result"
    }
   ],
   "source": [
    "u_update = expand(un)\n",
    "init_printing(u_update, order=\"rev-lex\")\n",
    "u_update"
   ]
  }
 ],
 "metadata": {
  "kernelspec": {
   "display_name": "simpy",
   "language": "python",
   "name": "python3"
  },
  "language_info": {
   "codemirror_mode": {
    "name": "ipython",
    "version": 3
   },
   "file_extension": ".py",
   "mimetype": "text/x-python",
   "name": "python",
   "nbconvert_exporter": "python",
   "pygments_lexer": "ipython3",
   "version": "3.11.8"
  }
 },
 "nbformat": 4,
 "nbformat_minor": 2
}
